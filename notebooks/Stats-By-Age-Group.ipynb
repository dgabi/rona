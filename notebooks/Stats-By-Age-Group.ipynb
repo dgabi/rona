{
 "cells": [
  {
   "cell_type": "code",
   "execution_count": null,
   "id": "9b9c526f",
   "metadata": {},
   "outputs": [],
   "source": [
    "(require '[clojupyter.misc.helper :as helper])\n",
    "(helper/add-dependencies '[metasoarous/oz \"1.5.6\"])\n",
    "(helper/add-dependencies '[techascent/tech.ml.dataset \"6.033\"])\n",
    "(require '[tech.v3.dataset :as ds])\n",
    "(require '[oz.notebook.clojupyter :as oz])\n",
    "(helper/add-dependencies '[clj-time \"0.15.2\"])\n",
    "(require '[clj-time.format :as f])\n",
    "\n",
    "\n",
    "\n",
    "\n",
    "(def cases-per-age (ds/->dataset \"https://opendata.ecdc.europa.eu/covid19/agecasesnational/csv/data.csv\"))\n",
    "\n",
    "(def age-groups (set (cases-per-age \"age_group\")))\n",
    "\n",
    "\n",
    "(defn parse-date [in]\n",
    "  (f/parse (f/formatter \"MM/dd/YY\") in))\n",
    "\n",
    "(defn get-cases-for-age-group [country age-group]\n",
    "    ((-> cases-per-age\n",
    "        (ds/filter-column \"country\" #(= % country))\n",
    "        (ds/filter-column \"age_group\" #(= % age-group)))\n",
    "        \"new_cases\"))\n",
    "\n",
    "(defn year-week [country] \n",
    "    ((-> cases-per-age\n",
    "        (ds/filter-column \"country\" #(= % country))) \n",
    "        \"year_week\"))\n",
    "\n",
    "(print (set (cases-per-age \"country\")))\n",
    "\n",
    ";; (def values (let [y (get-cases-for-age-group \"Romania\" \"<15yr\") t (year-week \"Romania\")] \n",
    ";;                (map #(hash-map :time %1 :item \"Romania <15yr\" :quantity %2) t y)))\n",
    "\n",
    ";; (print (year-week \"Romania\"))\n",
    "\n",
    "\n",
    "\n",
    "\n",
    "(defn create-oz-values [cntry]\n",
    "    (flatten (let [t (year-week cntry)](for [age (set (cases-per-age \"age_group\")) \n",
    "          :let [y (get-cases-for-age-group cntry age)]] \n",
    "        (map #(hash-map :time %1 :item age :quantity %2) t y)))))\n",
    "\n",
    "\n",
    "(defn age-graph [cntry]\n",
    "  {:title  ( str cntry \" - Cases by age group - weekly counts\")\n",
    "   :data {:values (create-oz-values cntry)}\n",
    "   :mark \"line\"\n",
    "   :height 400\n",
    "   :width 800\n",
    "   :encoding {:x {:field \"time\"  :type \"ordinal\" :title \"Week number\" }\n",
    "              :y {:field \"quantity\"  :title \"Cases\" :scale {:type \"pow\"}}\n",
    "              :color {:field \"item\"}}})\n",
    "\n",
    "\n"
   ]
  },
  {
   "cell_type": "code",
   "execution_count": null,
   "id": "406307c0",
   "metadata": {},
   "outputs": [],
   "source": [
    "(oz/view! (age-graph \"Romania\"))\n"
   ]
  },
  {
   "cell_type": "code",
   "execution_count": null,
   "id": "7dd7966d",
   "metadata": {},
   "outputs": [],
   "source": [
    "(oz/view! (age-graph \"Ireland\"))"
   ]
  },
  {
   "cell_type": "code",
   "execution_count": null,
   "id": "acd3e309",
   "metadata": {},
   "outputs": [],
   "source": [
    "(oz/view! (age-graph \"France\"))\n"
   ]
  },
  {
   "cell_type": "code",
   "execution_count": null,
   "id": "58d2a181",
   "metadata": {},
   "outputs": [],
   "source": [
    "(oz/view! (age-graph \"Germany\"))"
   ]
  },
  {
   "cell_type": "code",
   "execution_count": null,
   "id": "5ed1af0f",
   "metadata": {},
   "outputs": [],
   "source": [
    "(oz/view! (age-graph \"Spain\"))"
   ]
  },
  {
   "cell_type": "code",
   "execution_count": null,
   "id": "863c6f41",
   "metadata": {},
   "outputs": [],
   "source": [
    "(oz/view! (age-graph \"Austria\"))"
   ]
  }
 ],
 "metadata": {
  "kernelspec": {
   "display_name": "Clojure (clojupyter-0.4.0-SNAPSHOT)",
   "language": "clojure",
   "name": "clojupyter-0.4.0-snapshot"
  },
  "language_info": {
   "file_extension": ".clj",
   "mimetype": "text/x-clojure",
   "name": "clojure",
   "version": "1.10.1"
  }
 },
 "nbformat": 4,
 "nbformat_minor": 5
}
